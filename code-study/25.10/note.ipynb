{
 "cells": [
  {
   "cell_type": "code",
   "execution_count": null,
   "metadata": {
    "vscode": {
     "languageId": "javascript"
    }
   },
   "outputs": [],
   "source": [
    "//The introduction of this book alluded to the following as a nice way\n",
    "//to compute the sum of a range of numbers:\n",
    "// console.log(sum(renge(1, 10))) \n",
    "\n",
    "//Write a range function that takes two arguments, start and end,\n",
    "//and returns an array containing all the numbers from start up to (and including) end.\n",
    "\n",
    "\n",
    "function renge(num_min, num_max)\n",
    "{for (let sequence = [], count = 0; count < num_max;) {\n",
    "    if (num_min < num_max) {sequence.push(num_min); num_min += 1, count += 1;\n",
    "    if (num_max === num_min){sequence.push(num_max)}}\n",
    "    else return sequence;\n",
    "}}\n",
    "\n",
    "console.log(renge(1, 10))"
   ]
  },
  {
   "cell_type": "code",
   "execution_count": null,
   "metadata": {
    "vscode": {
     "languageId": "javascript"
    }
   },
   "outputs": [],
   "source": [
    "//The introduction of this book alluded to the following as a nice way to compute the sum of a range of numbers:\n",
    "// console.log(sum(renge(1, 10))) \n",
    "\n",
    "//Write a range function that takes two arguments, start and end, and returns an array containing all the numbers from start up to (and including) end.\n",
    "\n",
    "//Next, write a sum function that takes an array of numbers and returns the sum of these numbers. Run the example program and see whether it does indeed return 55.\n",
    "\n",
    "\n",
    "function renge(num_min, num_max ,step)// step don't work with decimals and negatives numbers\n",
    "{\n",
    "    for (let sequence = [], count = 0; count < num_max;) \n",
    "    {\n",
    "        if (step === undefined)\n",
    "            {step = 1};\n",
    "        if (num_min < num_max) \n",
    "            {sequence.push(num_min); num_min += step, count += 1;\n",
    "            if (num_max === num_min){sequence.push(num_max)};}\n",
    "            \n",
    "        else return sequence\n",
    "    }\n",
    "}\n",
    "\n",
    "function sum(numbers){\n",
    "    result = numbers.reduce((a, b) => a + b, 0)\n",
    "    return result;};\n",
    "\n",
    "console.log(renge(1, 10)) "
   ]
  },
  {
   "cell_type": "code",
   "execution_count": null,
   "metadata": {
    "vscode": {
     "languageId": "javascript"
    }
   },
   "outputs": [],
   "source": [
    "\n",
    "function renge(f_num, l_num, step){ // f_num - first number , l_num - last namber\n",
    "    let list = []\n",
    "    \n",
    "    if (f_num < l_num || step === undefined) {step = 1}\n",
    "    else step = -1;\n",
    "    \n",
    "    if (step > 0) {\n",
    "        for (let num = f_num; num <= l_num; num += step) list.push(num);\n",
    "      } else { // if step < 0 \n",
    "        for (let num = f_num; num >= l_num; num += step) list.push(num);\n",
    "      }\n",
    "      return list;\n",
    "    };\n",
    "    \n",
    "    function sum(numbers){\n",
    "        result = numbers.reduce((a, b) => a + b, 0)\n",
    "        return result;};\n",
    "        //.reduse ((accumulatol, currentVAlue) => {accumulatol + currentVAlue}, 0) \n",
    "        // \"}, 0 )\" - 0 the first accumulatol value  \n",
    "    console.log(renge(20, 1, -2)) "
   ]
  },
  {
   "cell_type": "code",
   "execution_count": null,
   "metadata": {
    "vscode": {
     "languageId": "javascript"
    }
   },
   "outputs": [],
   "source": [
    "\n",
    "function renge(f_num, l_num, step){ // f_num - first number , l_num - last namber\n",
    "    step = f_num < l_num ? 1 : -1 // if f_num < l_num - true step = 1 -false step = -1\n",
    "    let list = []\n",
    "    if (step === undefined) {step = 1};\n",
    "    if (step > 0) {\n",
    "        for (let num = f_num; num <= l_num; num += step) list.push(num);\n",
    "      } else { // if step < 0 \n",
    "        for (let num = f_num; num >= l_num; num += step) list.push(num);\n",
    "      }\n",
    "      return list;\n",
    "    };\n",
    "    \n",
    "    function sum(numbers){\n",
    "        result = numbers.reduce((a, b) => a + b, 0)\n",
    "        return result;};\n",
    "        //.reduse ((accumulatol, currentVAlue) => {accumulatol + currentVAlue}, 0) \n",
    "        // \"}, 0 )\" - 0 the first accumulatol value  \n",
    "    console.log(renge(20, 1, -2)) "
   ]
  },
  {
   "cell_type": "code",
   "execution_count": null,
   "metadata": {
    "vscode": {
     "languageId": "javascript"
    }
   },
   "outputs": [],
   "source": [
    "let list = {\n",
    "    value: 1,\n",
    "    rest: {\n",
    "        value: 2,\n",
    "        rest: {\n",
    "            value: 3,\n",
    "            rest: null\n",
    "        }\n",
    "    }\n",
    "}"
   ]
  },
  {
   "cell_type": "code",
   "execution_count": null,
   "metadata": {
    "vscode": {
     "languageId": "javascript"
    }
   },
   "outputs": [],
   "source": [
    "function repeat(n, action) {\n",
    "    for (let i = 0; i < n; i++) {\n",
    "      action(i);\n",
    "    }\n",
    "  }\n",
    "  \n",
    "  repeat(3, console.log)\n",
    "\n",
    "// This function doing some action eny times | n - How mani times hear 3 , action - which action hear console.log\n",
    "// In result, we get:\n",
    "//0\n",
    "//1\n",
    "//2 : in terminal "
   ]
  },
  {
   "cell_type": "code",
   "execution_count": null,
   "metadata": {
    "vscode": {
     "languageId": "javascript"
    }
   },
   "outputs": [],
   "source": []
  }
 ],
 "metadata": {
  "language_info": {
   "name": "python"
  }
 },
 "nbformat": 4,
 "nbformat_minor": 2
}
