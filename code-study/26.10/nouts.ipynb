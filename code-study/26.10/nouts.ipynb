{
 "cells": [
  {
   "cell_type": "code",
   "execution_count": null,
   "metadata": {
    "vscode": {
     "languageId": "javascript"
    }
   },
   "outputs": [],
   "source": [
    "// Sum\n",
    "function reduce(array, combine, start) {\n",
    "    let current = start;\n",
    "    for (let element of array) {\n",
    "      current = combine(current, element);\n",
    "    }\n",
    "    return current;\n",
    "  }\n",
    "  \n",
    "  console.log(reduce([1, 2, 3, 4], (a, b) => a + b, 0));"
   ]
  },
  {
   "cell_type": "code",
   "execution_count": null,
   "metadata": {
    "vscode": {
     "languageId": "javascript"
    }
   },
   "outputs": [],
   "source": [
    "// function use the metod concat for flatten array1 and arry2\n",
    "function combineArray(array1, array2) {\n",
    "    return [].concat(array1, array2);\n",
    "  }\n",
    "  \n",
    "  const isArray = [1, 2, 3];\n",
    "  const notArray = 'random';\n",
    "  \n",
    "console.log(combineArray(isArray, notArray));\n",
    "// ✅  [ 1, 2, 3, 'random' ]\n",
    "\n",
    "let array = [[1, 2, 3], [4, 5], [6]];\n",
    "console.log(combineArray(array))\n",
    "// X [[1, 2, 3], [4, 5], [6]]\n",
    "// not [1, 2, 3, 4, 5, 6]\n"
   ]
  },
  {
   "cell_type": "code",
   "execution_count": null,
   "metadata": {
    "vscode": {
     "languageId": "javascript"
    }
   },
   "outputs": [],
   "source": [
    "let arrays = [[1, 2, 3], [4, 5], [6]];\n",
    "let array = [1, 2, 3];\n",
    "const concat = (list);\n",
    "\n",
    "function reduce(array, combine, start) {\n",
    "  let current = start;\n",
    "  for (let element of array) {\n",
    "    current = combine(current, element);\n",
    "  }\n",
    "  return current;\n",
    "}\n",
    "console.log(reduce(array, (a, b) => a + b))"
   ]
  },
  {
   "cell_type": "code",
   "execution_count": null,
   "metadata": {
    "vscode": {
     "languageId": "javascript"
    }
   },
   "outputs": [],
   "source": [
    "\n",
    "const numbers = [15.5, 2.3, 1.1, 4.7];\n",
    "console.log(numbers.reduce(getSum, 0));\n",
    "\n",
    "function getSum(total, num) {\n",
    "  return total + Math.round(num);\n",
    "}"
   ]
  },
  {
   "cell_type": "code",
   "execution_count": null,
   "metadata": {
    "vscode": {
     "languageId": "javascript"
    }
   },
   "outputs": [],
   "source": [
    "//Use the reduce method in combination with the concat method to “flatten” an array of arrays into a single array that has all the elements of the original arrays.\n",
    "let arrays = [[1, 2, 3], [4, 5], [6]];\n",
    "let flattenedArray = arrays.reduce((accumulator, currentValue) => {\n",
    "  return accumulator.concat(currentValue);\n",
    "}, []);\n",
    "console.log(flattenedArray); "
   ]
  },
  {
   "cell_type": "markdown",
   "metadata": {},
   "source": [
    "//Use the reduce method in combination with the concat method to “flatten” an array of arrays into a single array that has all the elements of the original arrays.\n",
    "\n",
    "In this example, reduce() takes two arguments: a callback function (accumulator, currentValue) => { return accumulator.concat(currentValue); } and an initial value []. The callback function takes two parameters: accumulator and currentValue. The accumulator parameter stores the accumulated value returned from the previous execution of the callback function. The currentValue parameter stores the current element being processed in the array.\n",
    "\n",
    "The callback function returns the concatenation of accumulator and currentValue, which is then passed as the new value of accumulator in the next execution. When all elements have been processed, reduce() returns the final value of accumulator, which is equal to a single array containing all elements of the original arrays."
   ]
  },
  {
   "cell_type": "markdown",
   "metadata": {},
   "source": [
    "Explain metod reduce \n",
    "\n",
    "// array.reduse(callback(accumulator, currentValue, currentIndex, array,), initialValue)\n",
    "\n",
    "callback -- for named all cheaters in array \n",
    "acczmulator -- Wheree the intermediate result \n",
    "currentValue -- The first arrqy element in iteretion\n",
    "currentIndex -- optional 100% (?) I didn't know Wat is it.\n",
    "array -- optional list for metod reduse\n",
    "initialValue --optional the first Valule for accumulator "
   ]
  }
 ],
 "metadata": {
  "language_info": {
   "name": "python"
  }
 },
 "nbformat": 4,
 "nbformat_minor": 2
}
