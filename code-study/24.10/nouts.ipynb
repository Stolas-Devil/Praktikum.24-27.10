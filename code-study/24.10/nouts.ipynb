{
 "cells": [
  {
   "cell_type": "code",
   "execution_count": null,
   "metadata": {
    "vscode": {
     "languageId": "javascript"
    }
   },
   "outputs": [],
   "source": [
    "let size = 50;\n",
    "\n",
    "let board = \"\";\n",
    "\n",
    "for (let y = 0; y < size; y++) { // y = 0, when y++ writes 0 and changes the number to + 1 \n",
    "  for (let x = 0; x < size; x++) {// x = 0, when x++ writes 0 and changes the number to + 1\n",
    "    if ((x + y) % 2 == 0) { // cheking for x+y and for they can / 2 und have \n",
    "      board += \" \";\n",
    "    } else {\n",
    "      board += \"#\";\n",
    "    }\n",
    "  }\n",
    "  board += \"\\n\";\n",
    "}\n",
    "\n",
    "console.log(board);"
   ]
  },
  {
   "cell_type": "code",
   "execution_count": null,
   "metadata": {
    "vscode": {
     "languageId": "plaintext"
    }
   },
   "outputs": [],
   "source": [
    "functions let and var\n",
    "let - when in the loop = the code before and after the loop cannot “see” it. \n",
    "var - the code before and after the loop can “see” it. "
   ]
  },
  {
   "cell_type": "code",
   "execution_count": null,
   "metadata": {
    "vscode": {
     "languageId": "javascript"
    }
   },
   "outputs": [],
   "source": [
    "let x = 10;\n",
    "if (true) {\n",
    "  let y = 20;\n",
    "  var z = 30;\n",
    "  console.log(x + y + z);\n",
    "  // → 60\n",
    "}\n",
    "// y is not visible here\n",
    "console.log(x + z);\n",
    "// → 40"
   ]
  },
  {
   "cell_type": "code",
   "execution_count": null,
   "metadata": {
    "vscode": {
     "languageId": "plaintext"
    }
   },
   "outputs": [],
   "source": [
    "The exception is when multiple bindings have the same name—in that case, \n",
    "code can see only the innermost one. For example, when the code inside\n",
    "the halve function refers to n, it is seeing its own n, not the global n."
   ]
  },
  {
   "cell_type": "markdown",
   "metadata": {},
   "source": [
    "elif = else if"
   ]
  },
  {
   "cell_type": "code",
   "execution_count": null,
   "metadata": {
    "vscode": {
     "languageId": "javascript"
    }
   },
   "outputs": [],
   "source": [
    "const halve = function(n) {\n",
    "  return n / 2;\n",
    "};\n",
    "\n",
    "let n = 10;\n",
    "console.log(halve(100));\n",
    "// → 50\n",
    "console.log(n);\n",
    "// → 10"
   ]
  },
  {
   "cell_type": "code",
   "execution_count": null,
   "metadata": {
    "vscode": {
     "languageId": "javascript"
    }
   },
   "outputs": [],
   "source": [
    "//notation for functions in javascript\n",
    "//1 -\n",
    "function square(number) {\n",
    "  return number * number;\n",
    "};\n",
    "\n",
    "//2- \n",
    "const square = function (number) {\n",
    "  return number * number;\n",
    "};\n",
    "\n",
    "console.log(square(4)); // 16\n",
    "\n",
    "//3-\n",
    "const square = (number) => {\n",
    "  return number * number;\n",
    "};"
   ]
  },
  {
   "cell_type": "code",
   "execution_count": null,
   "metadata": {
    "vscode": {
     "languageId": "javascript"
    }
   },
   "outputs": [],
   "source": [
    "// calculate v -0\n",
    "// make a normal input !!!!!!!!!!\n",
    "let num1 = 1;\n",
    "let num2 = 2;\n",
    "\n",
    "\n",
    "const add = (num1, num2) =>\n",
    "{\n",
    "    result = num1 + num2\n",
    "    return result;\n",
    "console.log(add(num1 , num2));};\n",
    "\n",
    "\n",
    "function minus(num1, num2)\n",
    "{\n",
    "    if (num2 === undefined && num1 === 0) return num1;\n",
    "    if (num2 === undefined) return -num1;\n",
    "    else return num1 - num2;\n",
    "console.log(minus(num1, num2))};\n",
    "  \n",
    "\n",
    "const divison = (num1, num2) =>\n",
    "{\n",
    "    result = num1 / num2\n",
    "    return result;\n",
    "console.log(divison(num1, num2))}\n",
    "\n",
    "\n",
    "function factorial(num1) \n",
    "{ // make a function factorial\n",
    "    if (num1 === 0 || num1 === 1) {\n",
    "      return 1;\n",
    "    } else {\n",
    "      return num1 * factorial(num1 - 1);\n",
    "    } // function actions\n",
    "console.log(factorial(num1));};\n"
   ]
  },
  {
   "cell_type": "code",
   "execution_count": null,
   "metadata": {
    "vscode": {
     "languageId": "javascript"
    }
   },
   "outputs": [],
   "source": [
    "// calculate v -1 // make a normal input \n",
    "let ex = (12+78); // hear ex is a math ex task \n",
    "const calculate =eval(ex); // made function calculate (why? I don't know) but it work // eval - is maht function\n",
    "console.log(calculate); // write the answer"
   ]
  },
  {
   "cell_type": "code",
   "execution_count": null,
   "metadata": {
    "vscode": {
     "languageId": "javascript"
    }
   },
   "outputs": [],
   "source": [
    "const makeNoise = function() {\n",
    "    console.log(\"Pling!\");\n",
    "  };\n",
    "  \n",
    "  makeNoise();\n",
    "  \n",
    "  const power = function(base, exponent) {\n",
    "    let result = 1;\n",
    "    for (let count = 0; count < exponent; count++) {\n",
    "      result *= base;\n",
    "    }\n",
    "    return result;\n",
    "  };\n",
    "  \n",
    "  console.log(power(3, 9));"
   ]
  },
  {
   "cell_type": "code",
   "execution_count": null,
   "metadata": {
    "vscode": {
     "languageId": "javascript"
    }
   },
   "outputs": [],
   "source": [
    "let sequence = [1, 2, 3];\n",
    "sequence.push(4); // announce letter \n",
    "sequence.push(5); // The push method adds object to the end\n",
    "console.log(sequence); // wriet the list \n",
    "// → [1, 2, 3, 4, 5]\n",
    "console.log(sequence.pop()); // deleted the last \"object\" from list\n",
    "// → 5\n",
    "console.log(sequence);\n",
    "// → [1, 2, 3, 4]"
   ]
  },
  {
   "cell_type": "markdown",
   "metadata": {},
   "source": [
    "{} - object\n",
    "[] - string "
   ]
  },
  {
   "cell_type": "code",
   "execution_count": null,
   "metadata": {
    "vscode": {
     "languageId": "javascript"
    }
   },
   "outputs": [],
   "source": [
    "console.log([1, 2, 3, 2, 1].indexOf(2)); // The method searches through the array from the start to the end\n",
    "                                        //and returns the index at which the requested value was found—or -1 if it wasn’t found. \n",
    "// → 1\n",
    "console.log([1, 2, 3, 2, 1].lastIndexOf(2)); //To search from the end instead of the start, \n",
    "// → 3"
   ]
  },
  {
   "cell_type": "code",
   "execution_count": null,
   "metadata": {
    "vscode": {
     "languageId": "javascript"
    }
   },
   "outputs": [],
   "source": [
    "let journal = [];\n",
    "\n",
    "function addEntry(events, squirrel) {\n",
    "  journal.push({events, squirrel});\n",
    "}\n",
    "addEntry([\"work\", \"touched tree\", \"pizza\", \"running\",\"television\"], false);\n",
    "addEntry([\"work\", \"ice cream\", \"cauliflower\", \"lasagna\",\"touched tree\", \"brushed teeth\"], false);\n",
    "addEntry([\"weekend\", \"cycling\", \"break\", \"peanuts\",\"beer\"], true);\n",
    "\n",
    "function tableFor(event, journal) {\n",
    "  let table = [0, 0, 0, 0];\n",
    "  for (let i = 0; i < journal.length; i++) {\n",
    "    let entry = journal[i], index = 0;\n",
    "    if (entry.events.includes(event)) index += 1;\n",
    "    if (entry.squirrel) index += 2;\n",
    "    table[index] += 1;\n",
    "  }\n",
    "  return table;\n",
    "}\n",
    "\n",
    "console.log(tableFor(\"pizza\", JOURNAL));\n",
    "// → [76, 9, 4, 1]\n"
   ]
  }
 ],
 "metadata": {
  "language_info": {
   "name": "python"
  }
 },
 "nbformat": 4,
 "nbformat_minor": 2
}
