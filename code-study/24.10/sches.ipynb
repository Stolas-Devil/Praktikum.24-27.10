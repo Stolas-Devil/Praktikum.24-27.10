{
 "cells": [
  {
   "cell_type": "code",
   "execution_count": null,
   "metadata": {
    "vscode": {
     "languageId": "plaintext"
    }
   },
   "outputs": [],
   "source": [
    "let size = 50;\n",
    "\n",
    "let board = \"\";\n",
    "\n",
    "for (let y = 0; y < size; y++) { // y = 0, when y++ writes 0 and changes the number to + 1 \n",
    "  for (let x = 0; x < size; x++) {// x = 0, when x++ writes 0 and changes the number to + 1\n",
    "    if ((x + y) % 2 == 0) { // cheking for x+y and for they can / 2 und have \n",
    "      board += \" \";\n",
    "    } else {\n",
    "      board += \"#\";\n",
    "    }\n",
    "  }\n",
    "  board += \"\\n\";\n",
    "}\n",
    "\n",
    "console.log(board);"
   ]
  },
  {
   "cell_type": "code",
   "execution_count": null,
   "metadata": {
    "vscode": {
     "languageId": "plaintext"
    }
   },
   "outputs": [],
   "source": []
  }
 ],
 "metadata": {
  "language_info": {
   "name": "python"
  }
 },
 "nbformat": 4,
 "nbformat_minor": 2
}
