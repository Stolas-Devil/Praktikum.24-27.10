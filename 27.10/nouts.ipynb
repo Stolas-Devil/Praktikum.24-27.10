{
 "cells": [
  {
   "cell_type": "code",
   "execution_count": null,
   "metadata": {
    "vscode": {
     "languageId": "javascript"
    }
   },
   "outputs": [],
   "source": [
    "var characters = ['a', 'b', 'c']\n",
    "var numbers = characters.map(ch => ch.charCodeAt())\n",
    "\n",
    "// metod .map(ch => ch.charCodeAt()) make fom leters numbers\n",
    "// .map() -- A function that accepts up to three arguments. The map method calls the callbackfn function one time for each element in the array.\n",
    "//           Calls a defined callback function on each element of an array, and returns an array that contains the results.\n",
    "// \n",
    "//charCodeAt(index: number): number\n",
    "//The zero-based index of the desired character. If there is no character at the specified index, NaN is returned.\n",
    "//Returns the Unicode value of the character at the specified location."
   ]
  }
 ],
 "metadata": {
  "language_info": {
   "name": "python"
  }
 },
 "nbformat": 4,
 "nbformat_minor": 2
}
